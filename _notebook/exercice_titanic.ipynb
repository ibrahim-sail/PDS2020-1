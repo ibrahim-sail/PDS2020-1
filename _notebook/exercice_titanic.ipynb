{
 "cells": [
  {
   "cell_type": "code",
   "execution_count": 1,
   "metadata": {},
   "outputs": [],
   "source": [
    "import pandas as pd\n",
    "import numpy as np\n",
    "import matplotlib.pyplot as plt\n",
    "import seaborn as sns\n",
    "from sklearn.model_selection import KFold\n",
    "%matplotlib inline"
   ]
  },
  {
   "cell_type": "code",
   "execution_count": 2,
   "metadata": {},
   "outputs": [],
   "source": [
    "train = pd.read_csv('titanic_train.csv')"
   ]
  },
  {
   "cell_type": "code",
   "execution_count": 3,
   "metadata": {},
   "outputs": [
    {
     "data": {
      "text/html": [
       "<div>\n",
       "<style scoped>\n",
       "    .dataframe tbody tr th:only-of-type {\n",
       "        vertical-align: middle;\n",
       "    }\n",
       "\n",
       "    .dataframe tbody tr th {\n",
       "        vertical-align: top;\n",
       "    }\n",
       "\n",
       "    .dataframe thead th {\n",
       "        text-align: right;\n",
       "    }\n",
       "</style>\n",
       "<table border=\"1\" class=\"dataframe\">\n",
       "  <thead>\n",
       "    <tr style=\"text-align: right;\">\n",
       "      <th></th>\n",
       "      <th>PassengerId</th>\n",
       "      <th>Survived</th>\n",
       "      <th>Pclass</th>\n",
       "      <th>Name</th>\n",
       "      <th>Sex</th>\n",
       "      <th>Age</th>\n",
       "      <th>SibSp</th>\n",
       "      <th>Parch</th>\n",
       "      <th>Ticket</th>\n",
       "      <th>Fare</th>\n",
       "      <th>Cabin</th>\n",
       "      <th>Embarked</th>\n",
       "    </tr>\n",
       "  </thead>\n",
       "  <tbody>\n",
       "    <tr>\n",
       "      <th>0</th>\n",
       "      <td>1</td>\n",
       "      <td>0</td>\n",
       "      <td>3</td>\n",
       "      <td>Braund, Mr. Owen Harris</td>\n",
       "      <td>male</td>\n",
       "      <td>22.0</td>\n",
       "      <td>1</td>\n",
       "      <td>0</td>\n",
       "      <td>A/5 21171</td>\n",
       "      <td>7.2500</td>\n",
       "      <td>NaN</td>\n",
       "      <td>S</td>\n",
       "    </tr>\n",
       "    <tr>\n",
       "      <th>1</th>\n",
       "      <td>2</td>\n",
       "      <td>1</td>\n",
       "      <td>1</td>\n",
       "      <td>Cumings, Mrs. John Bradley (Florence Briggs Th...</td>\n",
       "      <td>female</td>\n",
       "      <td>38.0</td>\n",
       "      <td>1</td>\n",
       "      <td>0</td>\n",
       "      <td>PC 17599</td>\n",
       "      <td>71.2833</td>\n",
       "      <td>C85</td>\n",
       "      <td>C</td>\n",
       "    </tr>\n",
       "    <tr>\n",
       "      <th>2</th>\n",
       "      <td>3</td>\n",
       "      <td>1</td>\n",
       "      <td>3</td>\n",
       "      <td>Heikkinen, Miss. Laina</td>\n",
       "      <td>female</td>\n",
       "      <td>26.0</td>\n",
       "      <td>0</td>\n",
       "      <td>0</td>\n",
       "      <td>STON/O2. 3101282</td>\n",
       "      <td>7.9250</td>\n",
       "      <td>NaN</td>\n",
       "      <td>S</td>\n",
       "    </tr>\n",
       "    <tr>\n",
       "      <th>3</th>\n",
       "      <td>4</td>\n",
       "      <td>1</td>\n",
       "      <td>1</td>\n",
       "      <td>Futrelle, Mrs. Jacques Heath (Lily May Peel)</td>\n",
       "      <td>female</td>\n",
       "      <td>35.0</td>\n",
       "      <td>1</td>\n",
       "      <td>0</td>\n",
       "      <td>113803</td>\n",
       "      <td>53.1000</td>\n",
       "      <td>C123</td>\n",
       "      <td>S</td>\n",
       "    </tr>\n",
       "    <tr>\n",
       "      <th>4</th>\n",
       "      <td>5</td>\n",
       "      <td>0</td>\n",
       "      <td>3</td>\n",
       "      <td>Allen, Mr. William Henry</td>\n",
       "      <td>male</td>\n",
       "      <td>35.0</td>\n",
       "      <td>0</td>\n",
       "      <td>0</td>\n",
       "      <td>373450</td>\n",
       "      <td>8.0500</td>\n",
       "      <td>NaN</td>\n",
       "      <td>S</td>\n",
       "    </tr>\n",
       "  </tbody>\n",
       "</table>\n",
       "</div>"
      ],
      "text/plain": [
       "   PassengerId  Survived  Pclass  \\\n",
       "0            1         0       3   \n",
       "1            2         1       1   \n",
       "2            3         1       3   \n",
       "3            4         1       1   \n",
       "4            5         0       3   \n",
       "\n",
       "                                                Name     Sex   Age  SibSp  \\\n",
       "0                            Braund, Mr. Owen Harris    male  22.0      1   \n",
       "1  Cumings, Mrs. John Bradley (Florence Briggs Th...  female  38.0      1   \n",
       "2                             Heikkinen, Miss. Laina  female  26.0      0   \n",
       "3       Futrelle, Mrs. Jacques Heath (Lily May Peel)  female  35.0      1   \n",
       "4                           Allen, Mr. William Henry    male  35.0      0   \n",
       "\n",
       "   Parch            Ticket     Fare Cabin Embarked  \n",
       "0      0         A/5 21171   7.2500   NaN        S  \n",
       "1      0          PC 17599  71.2833   C85        C  \n",
       "2      0  STON/O2. 3101282   7.9250   NaN        S  \n",
       "3      0            113803  53.1000  C123        S  \n",
       "4      0            373450   8.0500   NaN        S  "
      ]
     },
     "execution_count": 3,
     "metadata": {},
     "output_type": "execute_result"
    }
   ],
   "source": [
    "train.head()"
   ]
  },
  {
   "cell_type": "code",
   "execution_count": 10,
   "metadata": {
    "scrolled": true
   },
   "outputs": [
    {
     "data": {
      "text/plain": [
       "<AxesSubplot:>"
      ]
     },
     "execution_count": 10,
     "metadata": {},
     "output_type": "execute_result"
    },
    {
     "data": {
      "image/png": "[encoded data removed]",
      "text/plain": [
       "<Figure size 432x288 with 1 Axes>"
      ]
     },
     "metadata": {
      "needs_background": "light"
     },
     "output_type": "display_data"
    }
   ],
   "source": [
    "sns.heatmap(train.isnull(),yticklabels=False,cbar=False,cmap='viridis')"
   ]
  },
  {
   "cell_type": "code",
   "execution_count": 5,
   "metadata": {},
   "outputs": [
    {
     "name": "stdout",
     "output_type": "stream",
     "text": [
      "Percent of missing \"Cabin\" records is 77.10%\n"
     ]
    }
   ],
   "source": [
    "print('Percent of missing \"Cabin\" records is %.2f%%' %((train['Cabin'].isnull().sum()/train.shape[0])*100))"
   ]
  },
  {
   "cell_type": "code",
   "execution_count": 6,
   "metadata": {},
   "outputs": [
    {
     "name": "stdout",
     "output_type": "stream",
     "text": [
      "Percent of missing \"Cabin\" records is 19.87%\n"
     ]
    }
   ],
   "source": [
    "print('Percent of missing \"Cabin\" records is %.2f%%' %((train['Age'].isnull().sum()/train.shape[0])*100))"
   ]
  },
  {
   "cell_type": "code",
   "execution_count": 10,
   "metadata": {},
   "outputs": [
    {
     "data": {
      "text/plain": [
       "PassengerId      0\n",
       "Survived         0\n",
       "Pclass           0\n",
       "Name             0\n",
       "Sex              0\n",
       "Age            177\n",
       "SibSp            0\n",
       "Parch            0\n",
       "Ticket           0\n",
       "Fare             0\n",
       "Cabin          687\n",
       "Embarked         2\n",
       "dtype: int64"
      ]
     },
     "execution_count": 10,
     "metadata": {},
     "output_type": "execute_result"
    }
   ],
   "source": [
    "train.isnull().sum()"
   ]
  },
  {
   "cell_type": "code",
   "execution_count": 11,
   "metadata": {},
   "outputs": [
    {
     "name": "stdout",
     "output_type": "stream",
     "text": [
      "<class 'pandas.core.frame.DataFrame'>\n",
      "RangeIndex: 891 entries, 0 to 890\n",
      "Data columns (total 12 columns):\n",
      " #   Column       Non-Null Count  Dtype  \n",
      "---  ------       --------------  -----  \n",
      " 0   PassengerId  891 non-null    int64  \n",
      " 1   Survived     891 non-null    int64  \n",
      " 2   Pclass       891 non-null    int64  \n",
      " 3   Name         891 non-null    object \n",
      " 4   Sex          891 non-null    object \n",
      " 5   Age          714 non-null    float64\n",
      " 6   SibSp        891 non-null    int64  \n",
      " 7   Parch        891 non-null    int64  \n",
      " 8   Ticket       891 non-null    object \n",
      " 9   Fare         891 non-null    float64\n",
      " 10  Cabin        204 non-null    object \n",
      " 11  Embarked     889 non-null    object \n",
      "dtypes: float64(2), int64(5), object(5)\n",
      "memory usage: 66.2+ KB\n"
     ]
    }
   ],
   "source": [
    "train.info()"
   ]
  },
  {
   "cell_type": "code",
   "execution_count": 12,
   "metadata": {},
   "outputs": [
    {
     "name": "stdout",
     "output_type": "stream",
     "text": [
      "<class 'pandas.core.frame.DataFrame'>\n",
      "RangeIndex: 891 entries, 0 to 890\n",
      "Data columns (total 12 columns):\n",
      " #   Column       Non-Null Count  Dtype  \n",
      "---  ------       --------------  -----  \n",
      " 0   PassengerId  891 non-null    int64  \n",
      " 1   Survived     891 non-null    object \n",
      " 2   Pclass       891 non-null    object \n",
      " 3   Name         891 non-null    object \n",
      " 4   Sex          891 non-null    object \n",
      " 5   Age          714 non-null    float64\n",
      " 6   SibSp        891 non-null    int64  \n",
      " 7   Parch        891 non-null    int64  \n",
      " 8   Ticket       891 non-null    object \n",
      " 9   Fare         891 non-null    float64\n",
      " 10  Cabin        204 non-null    object \n",
      " 11  Embarked     889 non-null    object \n",
      "dtypes: float64(2), int64(3), object(7)\n",
      "memory usage: 59.2+ KB\n"
     ]
    }
   ],
   "source": [
    "def convert_cast(df,categorical_cols):\n",
    "   for col_name in categorical_cols:\n",
    "       df[col_name]=df[col_name].astype(\"object\")\n",
    "   return df\n",
    "colonnes=[\"Survived\",\"Pclass\"]\n",
    "train=convert_cast(train,colonnes)\n",
    "train.info()"
   ]
  },
  {
   "cell_type": "code",
   "execution_count": 30,
   "metadata": {},
   "outputs": [
    {
     "data": {
      "text/html": [
       "<div>\n",
       "<style scoped>\n",
       "    .dataframe tbody tr th:only-of-type {\n",
       "        vertical-align: middle;\n",
       "    }\n",
       "\n",
       "    .dataframe tbody tr th {\n",
       "        vertical-align: top;\n",
       "    }\n",
       "\n",
       "    .dataframe thead th {\n",
       "        text-align: right;\n",
       "    }\n",
       "</style>\n",
       "<table border=\"1\" class=\"dataframe\">\n",
       "  <thead>\n",
       "    <tr style=\"text-align: right;\">\n",
       "      <th></th>\n",
       "      <th>PassengerId</th>\n",
       "      <th>Survived</th>\n",
       "      <th>Pclass</th>\n",
       "      <th>Name</th>\n",
       "      <th>Sex</th>\n",
       "      <th>Age</th>\n",
       "      <th>SibSp</th>\n",
       "      <th>Parch</th>\n",
       "      <th>Ticket</th>\n",
       "      <th>Fare</th>\n",
       "      <th>Cabin</th>\n",
       "      <th>Embarked</th>\n",
       "    </tr>\n",
       "  </thead>\n",
       "  <tbody>\n",
       "    <tr>\n",
       "      <th>0</th>\n",
       "      <td>1</td>\n",
       "      <td>0</td>\n",
       "      <td>3</td>\n",
       "      <td>Braund, Mr. Owen Harris</td>\n",
       "      <td>male</td>\n",
       "      <td>22.0</td>\n",
       "      <td>1</td>\n",
       "      <td>0</td>\n",
       "      <td>A/5 21171</td>\n",
       "      <td>7.2500</td>\n",
       "      <td>B96</td>\n",
       "      <td>S</td>\n",
       "    </tr>\n",
       "    <tr>\n",
       "      <th>1</th>\n",
       "      <td>2</td>\n",
       "      <td>1</td>\n",
       "      <td>1</td>\n",
       "      <td>Cumings, Mrs. John Bradley (Florence Briggs Th...</td>\n",
       "      <td>female</td>\n",
       "      <td>38.0</td>\n",
       "      <td>1</td>\n",
       "      <td>0</td>\n",
       "      <td>PC 17599</td>\n",
       "      <td>71.2833</td>\n",
       "      <td>C85</td>\n",
       "      <td>C</td>\n",
       "    </tr>\n",
       "    <tr>\n",
       "      <th>2</th>\n",
       "      <td>3</td>\n",
       "      <td>1</td>\n",
       "      <td>3</td>\n",
       "      <td>Heikkinen, Miss. Laina</td>\n",
       "      <td>female</td>\n",
       "      <td>26.0</td>\n",
       "      <td>0</td>\n",
       "      <td>0</td>\n",
       "      <td>STON/O2. 3101282</td>\n",
       "      <td>7.9250</td>\n",
       "      <td>B96</td>\n",
       "      <td>S</td>\n",
       "    </tr>\n",
       "    <tr>\n",
       "      <th>3</th>\n",
       "      <td>4</td>\n",
       "      <td>1</td>\n",
       "      <td>1</td>\n",
       "      <td>Futrelle, Mrs. Jacques Heath (Lily May Peel)</td>\n",
       "      <td>female</td>\n",
       "      <td>35.0</td>\n",
       "      <td>1</td>\n",
       "      <td>0</td>\n",
       "      <td>113803</td>\n",
       "      <td>53.1000</td>\n",
       "      <td>C123</td>\n",
       "      <td>S</td>\n",
       "    </tr>\n",
       "    <tr>\n",
       "      <th>4</th>\n",
       "      <td>5</td>\n",
       "      <td>0</td>\n",
       "      <td>3</td>\n",
       "      <td>Allen, Mr. William Henry</td>\n",
       "      <td>male</td>\n",
       "      <td>35.0</td>\n",
       "      <td>0</td>\n",
       "      <td>0</td>\n",
       "      <td>373450</td>\n",
       "      <td>8.0500</td>\n",
       "      <td>B96</td>\n",
       "      <td>S</td>\n",
       "    </tr>\n",
       "  </tbody>\n",
       "</table>\n",
       "</div>"
      ],
      "text/plain": [
       "   PassengerId  Survived  Pclass  \\\n",
       "0            1         0       3   \n",
       "1            2         1       1   \n",
       "2            3         1       3   \n",
       "3            4         1       1   \n",
       "4            5         0       3   \n",
       "\n",
       "                                                Name     Sex   Age  SibSp  \\\n",
       "0                            Braund, Mr. Owen Harris    male  22.0      1   \n",
       "1  Cumings, Mrs. John Bradley (Florence Briggs Th...  female  38.0      1   \n",
       "2                             Heikkinen, Miss. Laina  female  26.0      0   \n",
       "3       Futrelle, Mrs. Jacques Heath (Lily May Peel)  female  35.0      1   \n",
       "4                           Allen, Mr. William Henry    male  35.0      0   \n",
       "\n",
       "   Parch            Ticket     Fare Cabin Embarked  \n",
       "0      0         A/5 21171   7.2500   B96        S  \n",
       "1      0          PC 17599  71.2833   C85        C  \n",
       "2      0  STON/O2. 3101282   7.9250   B96        S  \n",
       "3      0            113803  53.1000  C123        S  \n",
       "4      0            373450   8.0500   B96        S  "
      ]
     },
     "execution_count": 30,
     "metadata": {},
     "output_type": "execute_result"
    }
   ],
   "source": [
    "def input_missing_values(df):\n",
    "    for col in df.columns:\n",
    "        if (df[col].dtype is float) or (df[col].dtype is int):\n",
    "            df[col]=df[col].fillna(df[col].median())\n",
    "        if (df[col].dtype == object):\n",
    "            df[col]=df[col].fillna(df[col].mode()[0].split(\" \")[0])\n",
    "    return df\n",
    "train=input_missing_values(train)\n",
    "train.head()"
   ]
  },
  {
   "cell_type": "code",
   "execution_count": 33,
   "metadata": {},
   "outputs": [
    {
     "name": "stdout",
     "output_type": "stream",
     "text": [
      "342\n",
      "549\n"
     ]
    }
   ],
   "source": [
    "survived=train[train.Survived==1]\n",
    "print(len(survived))\n",
    "\n",
    "dead=train[train.Survived==0]\n",
    "print(len(dead))\n"
   ]
  },
  {
   "cell_type": "code",
   "execution_count": 85,
   "metadata": {},
   "outputs": [
    {
     "name": "stdout",
     "output_type": "stream",
     "text": [
      "     SibSp  Parch     Fare\n",
      "0        1      0   7.2500\n",
      "1        1      0  71.2833\n",
      "2        0      0   7.9250\n",
      "3        1      0  53.1000\n",
      "4        0      0   8.0500\n",
      "..     ...    ...      ...\n",
      "886      0      0  13.0000\n",
      "887      0      0  30.0000\n",
      "888      1      2  23.4500\n",
      "889      0      0  30.0000\n",
      "890      0      0   7.7500\n",
      "\n",
      "[891 rows x 3 columns] 0      0\n",
      "1      1\n",
      "2      1\n",
      "3      1\n",
      "4      0\n",
      "      ..\n",
      "886    0\n",
      "887    1\n",
      "888    0\n",
      "889    1\n",
      "890    0\n",
      "Name: Survived, Length: 891, dtype: int64\n"
     ]
    }
   ],
   "source": [
    "def parse_model(X, use_columns):\n",
    "    if \"Survived\" not in X.columns :\n",
    "        raise ValueError(\"target column survived should belong to df\")\n",
    "    target=X[\"Survived\"]\n",
    "    X=X[use_columns]\n",
    "    return X, target\n",
    "model_cols1=['SibSp','Parch','Fare']\n",
    "X,y=parse_model(X=train.copy(),use_columns=model_cols1)\n",
    "print(X,y)"
   ]
  },
  {
   "cell_type": "code",
   "execution_count": 35,
   "metadata": {},
   "outputs": [
    {
     "data": {
      "text/plain": [
       "{'y_test': 709    1\n",
       " 439    0\n",
       " 840    0\n",
       " 720    1\n",
       " 39     1\n",
       "       ..\n",
       " 821    1\n",
       " 633    0\n",
       " 456    0\n",
       " 500    0\n",
       " 430    1\n",
       " Name: Survived, Length: 268, dtype: int64,\n",
       " 'prediction': array([0, 0, 0, 0, 0, 1, 0, 0, 0, 0, 0, 0, 0, 0, 0, 0, 0, 0, 0, 0, 0, 0,\n",
       "        0, 0, 0, 0, 0, 0, 0, 0, 0, 0, 0, 0, 0, 0, 0, 0, 0, 0, 0, 0, 0, 0,\n",
       "        0, 0, 0, 0, 0, 1, 0, 1, 0, 1, 0, 1, 0, 1, 0, 0, 0, 0, 0, 0, 0, 0,\n",
       "        1, 0, 0, 1, 0, 1, 0, 1, 0, 0, 0, 1, 0, 0, 0, 0, 1, 0, 0, 0, 1, 0,\n",
       "        0, 0, 0, 0, 0, 0, 0, 0, 0, 0, 0, 0, 0, 0, 1, 0, 0, 0, 0, 0, 0, 0,\n",
       "        0, 0, 1, 0, 1, 0, 0, 0, 0, 0, 0, 1, 1, 0, 0, 0, 0, 1, 0, 0, 0, 0,\n",
       "        0, 0, 0, 0, 1, 0, 0, 0, 0, 0, 0, 0, 1, 0, 0, 0, 1, 0, 0, 0, 0, 0,\n",
       "        0, 0, 0, 0, 0, 0, 0, 0, 0, 1, 0, 1, 0, 0, 0, 0, 1, 0, 0, 0, 0, 0,\n",
       "        1, 0, 0, 0, 0, 0, 0, 0, 1, 0, 0, 0, 0, 0, 0, 0, 0, 0, 0, 1, 1, 0,\n",
       "        0, 0, 0, 0, 0, 0, 0, 0, 0, 1, 0, 0, 1, 0, 1, 0, 0, 0, 0, 1, 0, 0,\n",
       "        0, 0, 0, 0, 0, 0, 0, 1, 0, 0, 0, 1, 0, 0, 0, 0, 1, 0, 1, 0, 0, 0,\n",
       "        0, 0, 0, 0, 0, 0, 0, 0, 0, 0, 0, 0, 1, 0, 0, 1, 0, 0, 1, 1, 0, 0,\n",
       "        0, 0, 0, 0], dtype=int64),\n",
       " 'proba': array([0.3179319 , 0.31885302, 0.3103309 , 0.4413506 , 0.26840005,\n",
       "        0.5720179 , 0.30975629, 0.239739  , 0.30975629, 0.45989181,\n",
       "        0.41089851, 0.3107417 , 0.24664416, 0.30803597, 0.32724455,\n",
       "        0.46569253, 0.40887211, 0.31001627, 0.32724455, 0.46952668,\n",
       "        0.31023498, 0.37456343, 0.25831371, 0.31461772, 0.33233347,\n",
       "        0.28879595, 0.37878286, 0.32724455, 0.28879595, 0.31009836,\n",
       "        0.31023498, 0.30975629, 0.38958598, 0.30910031, 0.3107417 ,\n",
       "        0.27819252, 0.40725834, 0.30975629, 0.39069695, 0.31023498,\n",
       "        0.4250161 , 0.25594353, 0.3107417 , 0.30975629, 0.3727702 ,\n",
       "        0.47161434, 0.31109786, 0.31461772, 0.30746372, 0.76395725,\n",
       "        0.27752043, 0.60775109, 0.49123825, 0.73548497, 0.30975629,\n",
       "        0.65889475, 0.31885302, 0.95508805, 0.35482925, 0.31018046,\n",
       "        0.30983834, 0.39105007, 0.31513447, 0.37231874, 0.30975629,\n",
       "        0.31885302, 0.55180572, 0.31016667, 0.2918651 , 0.5065105 ,\n",
       "        0.35475082, 0.9504014 , 0.38704915, 0.5693327 , 0.31009836,\n",
       "        0.28158256, 0.30975629, 0.54874122, 0.32724455, 0.4368486 ,\n",
       "        0.23986838, 0.31885302, 0.74406356, 0.30971527, 0.38958598,\n",
       "        0.45999724, 0.63723947, 0.4884061 , 0.28491361, 0.30811777,\n",
       "        0.438029  , 0.2488927 , 0.39553369, 0.30968803, 0.31023498,\n",
       "        0.31009836, 0.40681769, 0.3107417 , 0.32724455, 0.31023498,\n",
       "        0.37258782, 0.3077089 , 0.55544817, 0.30746372, 0.3107417 ,\n",
       "        0.25808087, 0.40163007, 0.41842008, 0.31552864, 0.39069695,\n",
       "        0.40681769, 0.30811777, 0.54795054, 0.37362   , 0.92301092,\n",
       "        0.3166761 , 0.40412817, 0.32682228, 0.36536052, 0.47161434,\n",
       "        0.25428639, 0.56237841, 0.50532722, 0.47026555, 0.30811777,\n",
       "        0.37456343, 0.37233381, 0.57333261, 0.27820516, 0.3107417 ,\n",
       "        0.31018046, 0.3179319 , 0.28491361, 0.3254729 , 0.4251967 ,\n",
       "        0.27819252, 0.68606434, 0.30983834, 0.30910031, 0.28862144,\n",
       "        0.31200323, 0.31513447, 0.32724455, 0.31513447, 0.60272845,\n",
       "        0.37790515, 0.32724455, 0.31885302, 0.74530148, 0.3107417 ,\n",
       "        0.3129239 , 0.30892267, 0.30990662, 0.30903821, 0.3107417 ,\n",
       "        0.30746372, 0.48674402, 0.30987937, 0.31513447, 0.31877862,\n",
       "        0.30804972, 0.37456343, 0.32724455, 0.52147912, 0.3120856 ,\n",
       "        0.55209354, 0.31885302, 0.40630848, 0.31023498, 0.30746372,\n",
       "        0.55732225, 0.40982958, 0.37397929, 0.3179319 , 0.3077089 ,\n",
       "        0.30803597, 0.54896328, 0.31885302, 0.32279183, 0.38160125,\n",
       "        0.32724455, 0.3103309 , 0.25831371, 0.2488927 , 0.95508805,\n",
       "        0.37456343, 0.32086277, 0.31023498, 0.40725834, 0.32724455,\n",
       "        0.34827791, 0.3247993 , 0.25596808, 0.31552864, 0.41504964,\n",
       "        0.55135415, 0.92904903, 0.32724455, 0.42546233, 0.2488927 ,\n",
       "        0.30481457, 0.31275891, 0.45976485, 0.31581878, 0.30804972,\n",
       "        0.44496762, 0.31547329, 0.73548497, 0.33219146, 0.3107417 ,\n",
       "        0.93596818, 0.30811777, 0.55135415, 0.30967425, 0.24664416,\n",
       "        0.23433351, 0.36892694, 0.54981503, 0.41504964, 0.30811777,\n",
       "        0.31023498, 0.32724455, 0.33468829, 0.3888715 , 0.30746372,\n",
       "        0.41540977, 0.3090046 , 0.81860253, 0.31513447, 0.3103309 ,\n",
       "        0.29881011, 0.9504014 , 0.30975629, 0.30804972, 0.31275891,\n",
       "        0.30983834, 0.57633373, 0.31666248, 0.92904903, 0.32505182,\n",
       "        0.28491361, 0.31513447, 0.30803597, 0.31275891, 0.30546548,\n",
       "        0.31552864, 0.3107417 , 0.31023498, 0.30811777, 0.3888715 ,\n",
       "        0.3254729 , 0.45881186, 0.30975629, 0.30804972, 0.6504587 ,\n",
       "        0.30721864, 0.3107417 , 0.50532722, 0.31885302, 0.31513447,\n",
       "        0.80313363, 0.612601  , 0.32724455, 0.31275891, 0.28491361,\n",
       "        0.37456343, 0.31275891, 0.37456343]),\n",
       " 'score_train': 0.680577849117175,\n",
       " 'score_test': 0.664179104477612,\n",
       " 'model': LogisticRegression(random_state=42)}"
      ]
     },
     "execution_count": 35,
     "metadata": {},
     "output_type": "execute_result"
    }
   ],
   "source": [
    "#ypredproba = Reg_Log.predict_proba(X_test)[:,1]\n",
    "from sklearn.model_selection import train_test_split\n",
    "from sklearn.linear_model import LogisticRegression\n",
    "def My_model (X,y,size,RdomState=42):\n",
    "    #X,y\n",
    "    X_train,X_test,y_train,y_test = train_test_split(X,y,test_size=size,random_state=RdomState)\n",
    "    model=LogisticRegression(random_state=RdomState)\n",
    "    model.fit(X_train,y_train)\n",
    "    #run the model\n",
    "    y_pred=model.predict(X_test)\n",
    "    y_prob=model.predict_proba(X_test)[:,1]\n",
    "    score_train=model.score(X_train,y_train)\n",
    "    score_test=model.score(X_test,y_test)\n",
    "    \n",
    "    return {\"y_test\":y_test,\"prediction\":y_pred,\"proba\":y_prob,\"score_train\":score_train,\"score_test\":score_test,\"model\":model}\n",
    "\n",
    "model=My_model(X,y,0.3,42)[\"model\"]\n",
    "y_pred=My_model(X,y,0.3,42)[\"prediction\"]\n",
    "ttt=My_model(X,y,0.3,42)[\"y_test\"]\n",
    "My_model(X,y,0.3,42)"
   ]
  },
  {
   "cell_type": "code",
   "execution_count": 38,
   "metadata": {},
   "outputs": [
    {
     "name": "stdout",
     "output_type": "stream",
     "text": [
      "Populating the interactive namespace from numpy and matplotlib\n"
     ]
    }
   ],
   "source": [
    "import matplotlib.pyplot as plt\n",
    "from matplotlib import style\n",
    "style.use('fivethirtyeight')\n",
    "%matplotlib inline\n",
    "%pylab inline\n",
    "\n",
    "\n",
    "def plot_hist(feature, bins=20):\n",
    "    x1 = np.array(dead[feature].dropna())\n",
    "    x2 = np.array(survived[feature].dropna())\n",
    "    plt.hist([x1, x2], label=[\"Victime\", \"Survivant\"], bins=bins, color=['r', 'b'])\n",
    "    plt.legend(loc=\"upper left\")\n",
    "    plt.title('Distribution relative de %s' %feature)\n",
    "    plt.show()\n"
   ]
  },
  {
   "cell_type": "code",
   "execution_count": 39,
   "metadata": {},
   "outputs": [
    {
     "data": {
      "image/png": "[encoded data removed]",
      "text/plain": [
       "<Figure size 432x288 with 1 Axes>"
      ]
     },
     "metadata": {
      "needs_background": "light"
     },
     "output_type": "display_data"
    }
   ],
   "source": [
    "plot_hist('Age')"
   ]
  },
  {
   "cell_type": "code",
   "execution_count": 40,
   "metadata": {},
   "outputs": [
    {
     "data": {
      "text/plain": [
       "array([1, 0, 3, 4, 2, 5, 8], dtype=int64)"
      ]
     },
     "execution_count": 40,
     "metadata": {},
     "output_type": "execute_result"
    }
   ],
   "source": [
    "train[\"SibSp\"].unique()"
   ]
  },
  {
   "cell_type": "code",
   "execution_count": 58,
   "metadata": {},
   "outputs": [
    {
     "data": {
      "text/html": [
       "<div>\n",
       "<style scoped>\n",
       "    .dataframe tbody tr th:only-of-type {\n",
       "        vertical-align: middle;\n",
       "    }\n",
       "\n",
       "    .dataframe tbody tr th {\n",
       "        vertical-align: top;\n",
       "    }\n",
       "\n",
       "    .dataframe thead th {\n",
       "        text-align: right;\n",
       "    }\n",
       "</style>\n",
       "<table border=\"1\" class=\"dataframe\">\n",
       "  <thead>\n",
       "    <tr style=\"text-align: right;\">\n",
       "      <th></th>\n",
       "      <th>SibSp</th>\n",
       "      <th>Parch</th>\n",
       "      <th>Fare</th>\n",
       "      <th>Pclass</th>\n",
       "    </tr>\n",
       "  </thead>\n",
       "  <tbody>\n",
       "    <tr>\n",
       "      <th>0</th>\n",
       "      <td>1</td>\n",
       "      <td>0</td>\n",
       "      <td>7.2500</td>\n",
       "      <td>3</td>\n",
       "    </tr>\n",
       "    <tr>\n",
       "      <th>1</th>\n",
       "      <td>1</td>\n",
       "      <td>0</td>\n",
       "      <td>71.2833</td>\n",
       "      <td>1</td>\n",
       "    </tr>\n",
       "    <tr>\n",
       "      <th>2</th>\n",
       "      <td>0</td>\n",
       "      <td>0</td>\n",
       "      <td>7.9250</td>\n",
       "      <td>3</td>\n",
       "    </tr>\n",
       "    <tr>\n",
       "      <th>3</th>\n",
       "      <td>1</td>\n",
       "      <td>0</td>\n",
       "      <td>53.1000</td>\n",
       "      <td>1</td>\n",
       "    </tr>\n",
       "    <tr>\n",
       "      <th>4</th>\n",
       "      <td>0</td>\n",
       "      <td>0</td>\n",
       "      <td>8.0500</td>\n",
       "      <td>3</td>\n",
       "    </tr>\n",
       "  </tbody>\n",
       "</table>\n",
       "</div>"
      ],
      "text/plain": [
       "   SibSp  Parch     Fare  Pclass\n",
       "0      1      0   7.2500       3\n",
       "1      1      0  71.2833       1\n",
       "2      0      0   7.9250       3\n",
       "3      1      0  53.1000       1\n",
       "4      0      0   8.0500       3"
      ]
     },
     "execution_count": 58,
     "metadata": {},
     "output_type": "execute_result"
    }
   ],
   "source": [
    "model_cols2=['SibSp','Parch','Fare','Pclass']\n",
    "X,y=parse_model(X=train.copy(),use_columns=model_cols2)\n",
    "X.head()"
   ]
  },
  {
   "cell_type": "code",
   "execution_count": 60,
   "metadata": {},
   "outputs": [
    {
     "data": {
      "text/html": [
       "<div>\n",
       "<style scoped>\n",
       "    .dataframe tbody tr th:only-of-type {\n",
       "        vertical-align: middle;\n",
       "    }\n",
       "\n",
       "    .dataframe tbody tr th {\n",
       "        vertical-align: top;\n",
       "    }\n",
       "\n",
       "    .dataframe thead th {\n",
       "        text-align: right;\n",
       "    }\n",
       "</style>\n",
       "<table border=\"1\" class=\"dataframe\">\n",
       "  <thead>\n",
       "    <tr style=\"text-align: right;\">\n",
       "      <th></th>\n",
       "      <th>SibSp</th>\n",
       "      <th>Parch</th>\n",
       "      <th>Fare</th>\n",
       "      <th>Pclass_1</th>\n",
       "      <th>Pclass_2</th>\n",
       "      <th>Pclass_3</th>\n",
       "    </tr>\n",
       "  </thead>\n",
       "  <tbody>\n",
       "    <tr>\n",
       "      <th>0</th>\n",
       "      <td>1</td>\n",
       "      <td>0</td>\n",
       "      <td>7.2500</td>\n",
       "      <td>0</td>\n",
       "      <td>0</td>\n",
       "      <td>1</td>\n",
       "    </tr>\n",
       "    <tr>\n",
       "      <th>1</th>\n",
       "      <td>1</td>\n",
       "      <td>0</td>\n",
       "      <td>71.2833</td>\n",
       "      <td>1</td>\n",
       "      <td>0</td>\n",
       "      <td>0</td>\n",
       "    </tr>\n",
       "    <tr>\n",
       "      <th>2</th>\n",
       "      <td>0</td>\n",
       "      <td>0</td>\n",
       "      <td>7.9250</td>\n",
       "      <td>0</td>\n",
       "      <td>0</td>\n",
       "      <td>1</td>\n",
       "    </tr>\n",
       "    <tr>\n",
       "      <th>3</th>\n",
       "      <td>1</td>\n",
       "      <td>0</td>\n",
       "      <td>53.1000</td>\n",
       "      <td>1</td>\n",
       "      <td>0</td>\n",
       "      <td>0</td>\n",
       "    </tr>\n",
       "    <tr>\n",
       "      <th>4</th>\n",
       "      <td>0</td>\n",
       "      <td>0</td>\n",
       "      <td>8.0500</td>\n",
       "      <td>0</td>\n",
       "      <td>0</td>\n",
       "      <td>1</td>\n",
       "    </tr>\n",
       "  </tbody>\n",
       "</table>\n",
       "</div>"
      ],
      "text/plain": [
       "   SibSp  Parch     Fare  Pclass_1  Pclass_2  Pclass_3\n",
       "0      1      0   7.2500         0         0         1\n",
       "1      1      0  71.2833         1         0         0\n",
       "2      0      0   7.9250         0         0         1\n",
       "3      1      0  53.1000         1         0         0\n",
       "4      0      0   8.0500         0         0         1"
      ]
     },
     "execution_count": 60,
     "metadata": {},
     "output_type": "execute_result"
    }
   ],
   "source": [
    "def dummify(X,cols) :\n",
    "    for col in cols:\n",
    "        X_dummies=pd.get_dummies(X[col],prefix=col,drop_first=False,dummy_na=False,prefix_sep='_')\n",
    "        X=X.join(X_dummies).drop(col,axis=1)\n",
    "    return X\n",
    "cols=['Pclass']\n",
    "X=dummify(X,cols)\n",
    "X.head()\n",
    "    \n",
    "#X_dummies=pd.get_dummies(X[\"Pclass\"],prefix=\"Pclass\",drop_first=False,dummy_na=False,prefix_sep='_')\n",
    "#X=X.join(X_dummies).drop(\"Pclass\",axis=1)\n",
    "#X.head()"
   ]
  },
  {
   "cell_type": "code",
   "execution_count": 50,
   "metadata": {},
   "outputs": [
    {
     "data": {
      "text/plain": [
       "{'y_test': 709    1\n",
       " 439    0\n",
       " 840    0\n",
       " 720    1\n",
       " 39     1\n",
       "       ..\n",
       " 821    1\n",
       " 633    0\n",
       " 456    0\n",
       " 500    0\n",
       " 430    1\n",
       " Name: Survived, Length: 268, dtype: int64,\n",
       " 'prediction': array([0, 0, 0, 1, 0, 1, 0, 0, 0, 1, 1, 0, 0, 0, 0, 1, 1, 0, 0, 1, 0, 0,\n",
       "        0, 0, 0, 0, 1, 0, 0, 0, 0, 0, 1, 0, 0, 0, 1, 0, 1, 0, 0, 0, 0, 0,\n",
       "        0, 0, 0, 0, 0, 1, 0, 1, 0, 1, 0, 1, 0, 1, 0, 0, 0, 1, 0, 0, 0, 0,\n",
       "        1, 0, 0, 1, 0, 1, 1, 1, 0, 0, 0, 1, 0, 0, 0, 0, 1, 0, 1, 1, 1, 1,\n",
       "        0, 0, 0, 0, 1, 0, 0, 0, 1, 0, 0, 0, 0, 0, 1, 0, 0, 0, 1, 1, 0, 1,\n",
       "        1, 0, 1, 0, 1, 0, 1, 0, 1, 0, 0, 1, 1, 1, 0, 0, 0, 1, 0, 0, 0, 0,\n",
       "        0, 0, 1, 0, 1, 0, 0, 0, 0, 0, 0, 0, 1, 1, 0, 0, 1, 0, 0, 0, 0, 0,\n",
       "        0, 0, 0, 0, 0, 0, 0, 0, 0, 1, 0, 1, 0, 1, 0, 0, 1, 1, 0, 0, 0, 0,\n",
       "        1, 0, 0, 1, 0, 0, 0, 0, 1, 0, 0, 0, 1, 0, 0, 0, 0, 0, 1, 1, 1, 0,\n",
       "        1, 0, 0, 0, 1, 0, 0, 0, 0, 1, 0, 0, 1, 0, 1, 0, 0, 0, 1, 1, 1, 0,\n",
       "        0, 0, 0, 1, 0, 1, 0, 1, 0, 0, 0, 1, 0, 0, 0, 0, 1, 0, 1, 0, 0, 0,\n",
       "        0, 0, 0, 0, 0, 0, 0, 1, 0, 1, 0, 0, 1, 0, 0, 1, 0, 0, 1, 1, 0, 0,\n",
       "        0, 0, 0, 0], dtype=int64),\n",
       " 'proba': array([0.25886583, 0.45206486, 0.23690174, 0.55424784, 0.21027181,\n",
       "        0.59603639, 0.23666447, 0.18984558, 0.23666447, 0.61712199,\n",
       "        0.50433983, 0.23707132, 0.20882053, 0.23595365, 0.45671482,\n",
       "        0.58282515, 0.50331618, 0.23677183, 0.45671482, 0.54674727,\n",
       "        0.23686214, 0.49915002, 0.20608262, 0.23866943, 0.2459347 ,\n",
       "        0.25494343, 0.50134598, 0.45671482, 0.25494343, 0.23680573,\n",
       "        0.23686214, 0.23666447, 0.50692546, 0.23639351, 0.23707132,\n",
       "        0.214302  , 0.5159313 , 0.23666447, 0.50749591, 0.23686214,\n",
       "        0.48087486, 0.20509209, 0.23707132, 0.23666447, 0.29330608,\n",
       "        0.39517624, 0.23721831, 0.23866943, 0.23571704, 0.75583872,\n",
       "        0.23144   , 0.63687662, 0.44205948, 0.73145616, 0.23666447,\n",
       "        0.70635159, 0.45206486, 0.86941458, 0.47164152, 0.23683963,\n",
       "        0.23669836, 0.52910858, 0.43672275, 0.49797778, 0.23666447,\n",
       "        0.45206486, 0.56962505, 0.23683393, 0.24749529, 0.55136095,\n",
       "        0.49672559, 0.86895506, 0.50562062, 0.61874987, 0.23680573,\n",
       "        0.21568951, 0.23666447, 0.65735558, 0.45671482, 0.35553331,\n",
       "        0.19721556, 0.45206486, 0.70462764, 0.23664753, 0.50692546,\n",
       "        0.54210312, 0.61510399, 0.55589484, 0.44952519, 0.23598747,\n",
       "        0.35607069, 0.22696518, 0.50997245, 0.23663628, 0.23686214,\n",
       "        0.23680573, 0.50227675, 0.23707132, 0.45671482, 0.23686214,\n",
       "        0.49811844, 0.23581843, 0.57500366, 0.23571704, 0.23707132,\n",
       "        0.20598542, 0.52109589, 0.52155016, 0.23904452, 0.50749591,\n",
       "        0.50227675, 0.23598747, 0.57137873, 0.49865768, 0.81173028,\n",
       "        0.23951676, 0.51434637, 0.45648214, 0.50235234, 0.39517624,\n",
       "        0.42548104, 0.59140665, 0.55078855, 0.60568614, 0.23598747,\n",
       "        0.49915002, 0.49798565, 0.59666847, 0.21430718, 0.23707132,\n",
       "        0.23683963, 0.25886583, 0.43263542, 0.24312814, 0.51151997,\n",
       "        0.214302  , 0.65233171, 0.23669836, 0.23639351, 0.21855883,\n",
       "        0.23759183, 0.43672275, 0.45671482, 0.43672275, 0.54889025,\n",
       "        0.50891604, 0.45671482, 0.45206486, 0.67221984, 0.23707132,\n",
       "        0.23797147, 0.23632012, 0.23672655, 0.22680438, 0.23707132,\n",
       "        0.23571704, 0.30888386, 0.2367153 , 0.43672275, 0.25923189,\n",
       "        0.23595934, 0.49915002, 0.45671482, 0.55859484, 0.23762581,\n",
       "        0.62334736, 0.45206486, 0.50201886, 0.23686214, 0.23571704,\n",
       "        0.62577347, 0.5766841 , 0.49884524, 0.25886583, 0.23581843,\n",
       "        0.23595365, 0.50868222, 0.45206486, 0.26096447, 0.50280742,\n",
       "        0.45671482, 0.23690174, 0.20608262, 0.22696518, 0.86941458,\n",
       "        0.49915002, 0.43990116, 0.23686214, 0.5159313 , 0.45671482,\n",
       "        0.27188721, 0.45536552, 0.20510236, 0.23904452, 0.54123908,\n",
       "        0.57302386, 0.8182298 , 0.45671482, 0.51165269, 0.22696518,\n",
       "        0.23462064, 0.23790346, 0.60074807, 0.23916396, 0.23595934,\n",
       "        0.35923052, 0.23902173, 0.73145616, 0.24587669, 0.23707132,\n",
       "        0.86610204, 0.23598747, 0.57302386, 0.23663059, 0.20882053,\n",
       "        0.20342919, 0.50422787, 0.6222899 , 0.54123908, 0.23598747,\n",
       "        0.23686214, 0.45671482, 0.26607874, 0.50655829, 0.23571704,\n",
       "        0.57942894, 0.23635397, 0.77534193, 0.43672275, 0.23690174,\n",
       "        0.42751785, 0.86895506, 0.23666447, 0.23595934, 0.23790346,\n",
       "        0.23669836, 0.59811203, 0.23951116, 0.8182298 , 0.45550507,\n",
       "        0.22632181, 0.43672275, 0.23595365, 0.23790346, 0.2348902 ,\n",
       "        0.23904452, 0.23707132, 0.23686214, 0.23598747, 0.50655829,\n",
       "        0.24312814, 0.60029812, 0.23666447, 0.23595934, 0.60903325,\n",
       "        0.23561569, 0.23707132, 0.55078855, 0.45206486, 0.43672275,\n",
       "        0.71796775, 0.60286728, 0.45671482, 0.23790346, 0.44952519,\n",
       "        0.49915002, 0.23790346, 0.49915002]),\n",
       " 'score_train': 0.6821829855537721,\n",
       " 'score_test': 0.7276119402985075,\n",
       " 'model': LogisticRegression(random_state=42)}"
      ]
     },
     "execution_count": 50,
     "metadata": {},
     "output_type": "execute_result"
    }
   ],
   "source": [
    "My_model(X,y,0.3,42)"
   ]
  },
  {
   "cell_type": "code",
   "execution_count": 63,
   "metadata": {},
   "outputs": [
    {
     "data": {
      "text/html": [
       "<div>\n",
       "<style scoped>\n",
       "    .dataframe tbody tr th:only-of-type {\n",
       "        vertical-align: middle;\n",
       "    }\n",
       "\n",
       "    .dataframe tbody tr th {\n",
       "        vertical-align: top;\n",
       "    }\n",
       "\n",
       "    .dataframe thead th {\n",
       "        text-align: right;\n",
       "    }\n",
       "</style>\n",
       "<table border=\"1\" class=\"dataframe\">\n",
       "  <thead>\n",
       "    <tr style=\"text-align: right;\">\n",
       "      <th></th>\n",
       "      <th>SibSp</th>\n",
       "      <th>Parch</th>\n",
       "      <th>Fare</th>\n",
       "      <th>Pclass</th>\n",
       "      <th>Sex</th>\n",
       "      <th>Age</th>\n",
       "      <th>Name</th>\n",
       "    </tr>\n",
       "  </thead>\n",
       "  <tbody>\n",
       "    <tr>\n",
       "      <th>0</th>\n",
       "      <td>1</td>\n",
       "      <td>0</td>\n",
       "      <td>7.2500</td>\n",
       "      <td>3</td>\n",
       "      <td>male</td>\n",
       "      <td>22.0</td>\n",
       "      <td>Braund, Mr. Owen Harris</td>\n",
       "    </tr>\n",
       "    <tr>\n",
       "      <th>1</th>\n",
       "      <td>1</td>\n",
       "      <td>0</td>\n",
       "      <td>71.2833</td>\n",
       "      <td>1</td>\n",
       "      <td>female</td>\n",
       "      <td>38.0</td>\n",
       "      <td>Cumings, Mrs. John Bradley (Florence Briggs Th...</td>\n",
       "    </tr>\n",
       "    <tr>\n",
       "      <th>2</th>\n",
       "      <td>0</td>\n",
       "      <td>0</td>\n",
       "      <td>7.9250</td>\n",
       "      <td>3</td>\n",
       "      <td>female</td>\n",
       "      <td>26.0</td>\n",
       "      <td>Heikkinen, Miss. Laina</td>\n",
       "    </tr>\n",
       "    <tr>\n",
       "      <th>3</th>\n",
       "      <td>1</td>\n",
       "      <td>0</td>\n",
       "      <td>53.1000</td>\n",
       "      <td>1</td>\n",
       "      <td>female</td>\n",
       "      <td>35.0</td>\n",
       "      <td>Futrelle, Mrs. Jacques Heath (Lily May Peel)</td>\n",
       "    </tr>\n",
       "    <tr>\n",
       "      <th>4</th>\n",
       "      <td>0</td>\n",
       "      <td>0</td>\n",
       "      <td>8.0500</td>\n",
       "      <td>3</td>\n",
       "      <td>male</td>\n",
       "      <td>35.0</td>\n",
       "      <td>Allen, Mr. William Henry</td>\n",
       "    </tr>\n",
       "  </tbody>\n",
       "</table>\n",
       "</div>"
      ],
      "text/plain": [
       "   SibSp  Parch     Fare  Pclass     Sex   Age  \\\n",
       "0      1      0   7.2500       3    male  22.0   \n",
       "1      1      0  71.2833       1  female  38.0   \n",
       "2      0      0   7.9250       3  female  26.0   \n",
       "3      1      0  53.1000       1  female  35.0   \n",
       "4      0      0   8.0500       3    male  35.0   \n",
       "\n",
       "                                                Name  \n",
       "0                            Braund, Mr. Owen Harris  \n",
       "1  Cumings, Mrs. John Bradley (Florence Briggs Th...  \n",
       "2                             Heikkinen, Miss. Laina  \n",
       "3       Futrelle, Mrs. Jacques Heath (Lily May Peel)  \n",
       "4                           Allen, Mr. William Henry  "
      ]
     },
     "execution_count": 63,
     "metadata": {},
     "output_type": "execute_result"
    }
   ],
   "source": [
    "model_cols3=['SibSp','Parch','Fare',\"Pclass\",\"Sex\",\"Age\",\"Name\"]\n",
    "X,y=parse_model(X=train.copy(),use_columns=model_cols3)\n",
    "X.head()"
   ]
  },
  {
   "cell_type": "code",
   "execution_count": 64,
   "metadata": {},
   "outputs": [],
   "source": [
    "def convert_df_columns(data_str,features,type_var):\n",
    "    for feature in features:\n",
    "        data_str[feature]=data_str[feature].astype(type_var)\n",
    "    return data_str"
   ]
  },
  {
   "cell_type": "code",
   "execution_count": 65,
   "metadata": {},
   "outputs": [
    {
     "data": {
      "text/html": [
       "<div>\n",
       "<style scoped>\n",
       "    .dataframe tbody tr th:only-of-type {\n",
       "        vertical-align: middle;\n",
       "    }\n",
       "\n",
       "    .dataframe tbody tr th {\n",
       "        vertical-align: top;\n",
       "    }\n",
       "\n",
       "    .dataframe thead th {\n",
       "        text-align: right;\n",
       "    }\n",
       "</style>\n",
       "<table border=\"1\" class=\"dataframe\">\n",
       "  <thead>\n",
       "    <tr style=\"text-align: right;\">\n",
       "      <th></th>\n",
       "      <th>SibSp</th>\n",
       "      <th>Parch</th>\n",
       "      <th>Fare</th>\n",
       "      <th>is_child</th>\n",
       "      <th>Pclass_1</th>\n",
       "      <th>Pclass_2</th>\n",
       "      <th>Pclass_3</th>\n",
       "      <th>Sex_female</th>\n",
       "      <th>Sex_male</th>\n",
       "      <th>title_Capt</th>\n",
       "      <th>...</th>\n",
       "      <th>title_Mlle</th>\n",
       "      <th>title_Mme</th>\n",
       "      <th>title_Mr</th>\n",
       "      <th>title_Mrs</th>\n",
       "      <th>title_Ms</th>\n",
       "      <th>title_Rev</th>\n",
       "      <th>title_Sir</th>\n",
       "      <th>title_the Countess</th>\n",
       "      <th>Surname_False</th>\n",
       "      <th>Surname_True</th>\n",
       "    </tr>\n",
       "  </thead>\n",
       "  <tbody>\n",
       "    <tr>\n",
       "      <th>0</th>\n",
       "      <td>1</td>\n",
       "      <td>0</td>\n",
       "      <td>7.2500</td>\n",
       "      <td>1</td>\n",
       "      <td>0</td>\n",
       "      <td>0</td>\n",
       "      <td>1</td>\n",
       "      <td>0</td>\n",
       "      <td>1</td>\n",
       "      <td>0</td>\n",
       "      <td>...</td>\n",
       "      <td>0</td>\n",
       "      <td>0</td>\n",
       "      <td>1</td>\n",
       "      <td>0</td>\n",
       "      <td>0</td>\n",
       "      <td>0</td>\n",
       "      <td>0</td>\n",
       "      <td>0</td>\n",
       "      <td>1</td>\n",
       "      <td>0</td>\n",
       "    </tr>\n",
       "    <tr>\n",
       "      <th>1</th>\n",
       "      <td>1</td>\n",
       "      <td>0</td>\n",
       "      <td>71.2833</td>\n",
       "      <td>1</td>\n",
       "      <td>1</td>\n",
       "      <td>0</td>\n",
       "      <td>0</td>\n",
       "      <td>1</td>\n",
       "      <td>0</td>\n",
       "      <td>0</td>\n",
       "      <td>...</td>\n",
       "      <td>0</td>\n",
       "      <td>0</td>\n",
       "      <td>0</td>\n",
       "      <td>1</td>\n",
       "      <td>0</td>\n",
       "      <td>0</td>\n",
       "      <td>0</td>\n",
       "      <td>0</td>\n",
       "      <td>0</td>\n",
       "      <td>1</td>\n",
       "    </tr>\n",
       "    <tr>\n",
       "      <th>2</th>\n",
       "      <td>0</td>\n",
       "      <td>0</td>\n",
       "      <td>7.9250</td>\n",
       "      <td>1</td>\n",
       "      <td>0</td>\n",
       "      <td>0</td>\n",
       "      <td>1</td>\n",
       "      <td>1</td>\n",
       "      <td>0</td>\n",
       "      <td>0</td>\n",
       "      <td>...</td>\n",
       "      <td>0</td>\n",
       "      <td>0</td>\n",
       "      <td>0</td>\n",
       "      <td>0</td>\n",
       "      <td>0</td>\n",
       "      <td>0</td>\n",
       "      <td>0</td>\n",
       "      <td>0</td>\n",
       "      <td>1</td>\n",
       "      <td>0</td>\n",
       "    </tr>\n",
       "    <tr>\n",
       "      <th>3</th>\n",
       "      <td>1</td>\n",
       "      <td>0</td>\n",
       "      <td>53.1000</td>\n",
       "      <td>1</td>\n",
       "      <td>1</td>\n",
       "      <td>0</td>\n",
       "      <td>0</td>\n",
       "      <td>1</td>\n",
       "      <td>0</td>\n",
       "      <td>0</td>\n",
       "      <td>...</td>\n",
       "      <td>0</td>\n",
       "      <td>0</td>\n",
       "      <td>0</td>\n",
       "      <td>1</td>\n",
       "      <td>0</td>\n",
       "      <td>0</td>\n",
       "      <td>0</td>\n",
       "      <td>0</td>\n",
       "      <td>0</td>\n",
       "      <td>1</td>\n",
       "    </tr>\n",
       "    <tr>\n",
       "      <th>4</th>\n",
       "      <td>0</td>\n",
       "      <td>0</td>\n",
       "      <td>8.0500</td>\n",
       "      <td>1</td>\n",
       "      <td>0</td>\n",
       "      <td>0</td>\n",
       "      <td>1</td>\n",
       "      <td>0</td>\n",
       "      <td>1</td>\n",
       "      <td>0</td>\n",
       "      <td>...</td>\n",
       "      <td>0</td>\n",
       "      <td>0</td>\n",
       "      <td>1</td>\n",
       "      <td>0</td>\n",
       "      <td>0</td>\n",
       "      <td>0</td>\n",
       "      <td>0</td>\n",
       "      <td>0</td>\n",
       "      <td>1</td>\n",
       "      <td>0</td>\n",
       "    </tr>\n",
       "  </tbody>\n",
       "</table>\n",
       "<p>5 rows × 28 columns</p>\n",
       "</div>"
      ],
      "text/plain": [
       "   SibSp  Parch     Fare  is_child  Pclass_1  Pclass_2  Pclass_3  Sex_female  \\\n",
       "0      1      0   7.2500         1         0         0         1           0   \n",
       "1      1      0  71.2833         1         1         0         0           1   \n",
       "2      0      0   7.9250         1         0         0         1           1   \n",
       "3      1      0  53.1000         1         1         0         0           1   \n",
       "4      0      0   8.0500         1         0         0         1           0   \n",
       "\n",
       "   Sex_male  title_Capt  ...  title_Mlle  title_Mme  title_Mr  title_Mrs  \\\n",
       "0         1           0  ...           0          0         1          0   \n",
       "1         0           0  ...           0          0         0          1   \n",
       "2         0           0  ...           0          0         0          0   \n",
       "3         0           0  ...           0          0         0          1   \n",
       "4         1           0  ...           0          0         1          0   \n",
       "\n",
       "   title_Ms  title_Rev  title_Sir  title_the Countess  Surname_False  \\\n",
       "0         0          0          0                   0              1   \n",
       "1         0          0          0                   0              0   \n",
       "2         0          0          0                   0              1   \n",
       "3         0          0          0                   0              0   \n",
       "4         0          0          0                   0              1   \n",
       "\n",
       "   Surname_True  \n",
       "0             0  \n",
       "1             1  \n",
       "2             0  \n",
       "3             1  \n",
       "4             0  \n",
       "\n",
       "[5 rows x 28 columns]"
      ]
     },
     "execution_count": 65,
     "metadata": {},
     "output_type": "execute_result"
    }
   ],
   "source": [
    "def transform_df(X, columns_to_dummify, features=[\"Pclass\"],thres=10):\n",
    "    X=convert_df_columns(X,features,type_var=\"object\")\n",
    "    X[\"is_child\"]=X[\"Age\"].apply(lambda x: 0 if x<thres else 1)\n",
    "    X[\"title\"]=X[\"Name\"].apply(lambda x: x.split(\",\")[1].split(\".\")[0].strip())\n",
    "    X[\"Surname\"]=X['Name'].map(lambda x: '(' in x)\n",
    "    for col in columns_to_dummify:\n",
    "        X_dummies=pd.get_dummies(X[col],prefix=col,drop_first=False,dummy_na=False, prefix_sep='_')\n",
    "        X=X.join(X_dummies).drop(col,axis=1)\n",
    "    return X.drop(\"Name\",axis=1).drop(\"Age\",axis=1)\n",
    "columns_to_dummify=[\"Pclass\",\"Sex\",\"title\",\"Surname\"]\n",
    "X=transform_df(X,columns_to_dummify)\n",
    "X.head()"
   ]
  },
  {
   "cell_type": "code",
   "execution_count": 71,
   "metadata": {},
   "outputs": [
    {
     "name": "stderr",
     "output_type": "stream",
     "text": [
      "c:\\users\\hp\\appdata\\local\\programs\\python\\python37-32\\lib\\site-packages\\sklearn\\linear_model\\_logistic.py:764: ConvergenceWarning: lbfgs failed to converge (status=1):\n",
      "STOP: TOTAL NO. of ITERATIONS REACHED LIMIT.\n",
      "\n",
      "Increase the number of iterations (max_iter) or scale the data as shown in:\n",
      "    https://scikit-learn.org/stable/modules/preprocessing.html\n",
      "Please also refer to the documentation for alternative solver options:\n",
      "    https://scikit-learn.org/stable/modules/linear_model.html#logistic-regression\n",
      "  extra_warning_msg=_LOGISTIC_SOLVER_CONVERGENCE_MSG)\n"
     ]
    },
    {
     "data": {
      "text/plain": [
       "{'y_test': 709    1\n",
       " 439    0\n",
       " 840    0\n",
       " 720    1\n",
       " 39     1\n",
       "       ..\n",
       " 821    1\n",
       " 633    0\n",
       " 456    0\n",
       " 500    0\n",
       " 430    1\n",
       " Name: Survived, Length: 268, dtype: int64,\n",
       " 'prediction': array([1, 0, 0, 1, 0, 1, 1, 0, 1, 1, 0, 0, 0, 0, 0, 1, 0, 1, 0, 0, 0, 0,\n",
       "        0, 0, 0, 0, 0, 0, 0, 1, 0, 1, 0, 1, 0, 0, 0, 1, 1, 0, 0, 0, 0, 0,\n",
       "        1, 0, 0, 0, 0, 0, 1, 1, 0, 1, 0, 1, 0, 1, 1, 1, 0, 1, 1, 0, 0, 1,\n",
       "        0, 0, 0, 1, 1, 1, 0, 1, 0, 0, 1, 1, 1, 1, 0, 1, 1, 0, 0, 0, 1, 1,\n",
       "        0, 0, 1, 0, 0, 0, 0, 0, 0, 0, 1, 0, 0, 0, 1, 0, 0, 0, 1, 0, 0, 0,\n",
       "        1, 0, 1, 0, 1, 0, 0, 0, 1, 0, 0, 1, 1, 1, 0, 1, 1, 0, 1, 0, 1, 0,\n",
       "        0, 1, 1, 1, 1, 0, 0, 1, 0, 1, 0, 0, 0, 1, 0, 0, 1, 0, 0, 0, 0, 1,\n",
       "        0, 0, 0, 1, 1, 1, 0, 1, 0, 1, 0, 0, 0, 1, 0, 0, 0, 1, 1, 1, 0, 0,\n",
       "        0, 1, 1, 0, 0, 0, 0, 0, 1, 0, 0, 0, 0, 1, 0, 0, 0, 0, 1, 1, 1, 0,\n",
       "        1, 0, 0, 1, 1, 1, 0, 1, 0, 0, 0, 0, 0, 0, 1, 0, 0, 0, 1, 0, 1, 0,\n",
       "        0, 1, 0, 0, 0, 1, 0, 1, 1, 1, 0, 1, 0, 1, 0, 1, 1, 1, 1, 0, 0, 1,\n",
       "        0, 1, 0, 0, 0, 0, 0, 0, 1, 0, 0, 0, 0, 0, 0, 1, 0, 1, 1, 0, 1, 0,\n",
       "        0, 0, 0, 0], dtype=int64),\n",
       " 'proba': array([0.61184205, 0.22425397, 0.09734035, 0.91498672, 0.49650016,\n",
       "        0.9075033 , 0.61444784, 0.04075102, 0.61444784, 0.69665422,\n",
       "        0.2384098 , 0.09744184, 0.19933019, 0.09677371, 0.22829669,\n",
       "        0.80781161, 0.23749563, 0.61462113, 0.25051015, 0.34090162,\n",
       "        0.09731665, 0.29021202, 0.48867965, 0.09840053, 0.10280859,\n",
       "        0.10799199, 0.47602736, 0.22829669, 0.28626125, 0.61467582,\n",
       "        0.09731665, 0.61444784, 0.29816302, 0.6140101 , 0.09744184,\n",
       "        0.06421659, 0.30753144, 0.61444784, 0.86313133, 0.09731665,\n",
       "        0.15660245, 0.06022505, 0.09744184, 0.09719841, 0.75901854,\n",
       "        0.01898457, 0.09752985, 0.09840053, 0.09663251, 0.25733656,\n",
       "        0.56519511, 0.92593612, 0.01111754, 0.71598436, 0.09719841,\n",
       "        0.78990478, 0.22425397, 0.98857918, 0.82502001, 0.61473051,\n",
       "        0.09721867, 0.74146557, 0.89909737, 0.28902429, 0.09719841,\n",
       "        0.92799993, 0.34093513, 0.09729977, 0.03808377, 0.94626469,\n",
       "        0.84605048, 0.87948278, 0.29681985, 0.79046637, 0.0972829 ,\n",
       "        0.06482752, 0.61444784, 0.73997971, 0.8140951 , 0.67199305,\n",
       "        0.01136006, 0.92799993, 0.94807261, 0.09718828, 0.29816302,\n",
       "        0.33574102, 0.88984912, 0.88904735, 0.41289395, 0.0967939 ,\n",
       "        0.63533287, 0.24331129, 0.30131347, 0.09718155, 0.09731665,\n",
       "        0.0972829 , 0.23656987, 0.09744184, 0.92952767, 0.09731665,\n",
       "        0.28916666, 0.096693  , 0.95197413, 0.09663251, 0.09744184,\n",
       "        0.06060739, 0.86104926, 0.31346377, 0.09862611, 0.29875134,\n",
       "        0.93250573, 0.25771434, 0.95113318, 0.28971282, 0.71278154,\n",
       "        0.09891042, 0.30587024, 0.22809334, 0.84962521, 0.46317895,\n",
       "        0.06067165, 0.90550055, 0.85358358, 0.83142314, 0.25771434,\n",
       "        0.56982321, 0.89800654, 0.39938246, 0.75367807, 0.09744184,\n",
       "        0.61473051, 0.32729992, 0.20783387, 0.84651138, 0.69783561,\n",
       "        0.75367104, 0.92952452, 0.09721867, 0.09703642, 0.75936339,\n",
       "        0.09775366, 0.89909737, 0.22829669, 0.16656428, 0.34292029,\n",
       "        0.85370908, 0.22829669, 0.22425397, 0.97065643, 0.09744184,\n",
       "        0.09798135, 0.09699257, 0.09723554, 0.52628359, 0.09744184,\n",
       "        0.09663251, 0.14448908, 0.61452989, 0.89909737, 0.65580765,\n",
       "        0.0967771 , 0.56982321, 0.22829669, 0.94806909, 0.09777403,\n",
       "        0.25915129, 0.2968796 , 0.93242575, 0.09731665, 0.09663251,\n",
       "        0.26160446, 0.62487206, 0.56945524, 0.67645117, 0.096693  ,\n",
       "        0.09677371, 0.24200686, 0.81057489, 0.67938399, 0.2939362 ,\n",
       "        0.22829669, 0.09734035, 0.06064905, 0.24331129, 0.66002821,\n",
       "        0.4733307 , 0.16878249, 0.09731665, 0.30753144, 0.92952767,\n",
       "        0.04424134, 0.22711904, 0.06022944, 0.09862611, 0.90169961,\n",
       "        0.95151632, 0.97483467, 0.22829669, 0.93535506, 0.08847361,\n",
       "        0.09597936, 0.61644264, 0.86181805, 0.83000105, 0.0967771 ,\n",
       "        0.67634681, 0.0986124 , 0.18093286, 0.10277307, 0.09744184,\n",
       "        0.46192962, 0.0967939 , 0.86694525, 0.09717815, 0.19933019,\n",
       "        0.37909953, 0.65436607, 0.25808868, 0.90169961, 0.0967939 ,\n",
       "        0.2588571 , 0.93415423, 0.04272872, 0.29778469, 0.09663251,\n",
       "        0.83572387, 0.09701279, 0.91787773, 0.89909737, 0.6148307 ,\n",
       "        0.16025135, 0.87948278, 0.09719841, 0.82690534, 0.09794054,\n",
       "        0.61450254, 0.96760316, 0.61901467, 0.97483467, 0.24938458,\n",
       "        0.09109535, 0.89909737, 0.09677371, 0.61644264, 0.09613977,\n",
       "        0.09862611, 0.09744184, 0.09731665, 0.0967939 , 0.48243391,\n",
       "        0.6247341 , 0.29132577, 0.09719841, 0.0967771 , 0.36566706,\n",
       "        0.09657205, 0.09744184, 0.94611966, 0.22425397, 0.89909737,\n",
       "        0.95050102, 0.33875058, 0.8140951 , 0.09794054, 0.24239552,\n",
       "        0.29021202, 0.09794054, 0.29021202]),\n",
       " 'score_train': 0.841091492776886,\n",
       " 'score_test': 0.832089552238806,\n",
       " 'model': LogisticRegression(random_state=42)}"
      ]
     },
     "execution_count": 71,
     "metadata": {},
     "output_type": "execute_result"
    }
   ],
   "source": [
    "My_model(X,y,0.3,42)"
   ]
  },
  {
   "cell_type": "code",
   "execution_count": null,
   "metadata": {},
   "outputs": [],
   "source": [
    "#RANDOM FOREST"
   ]
  },
  {
   "cell_type": "code",
   "execution_count": 113,
   "metadata": {},
   "outputs": [],
   "source": [
    "model_cols1=['SibSp','Parch','Fare']\n",
    "X,y=parse_model(X=train.copy(),use_columns=model_cols1)\n",
    "X_train,X_test,y_train,y_test = train_test_split(X,y,test_size=0.3,random_state=42)"
   ]
  },
  {
   "cell_type": "code",
   "execution_count": 114,
   "metadata": {},
   "outputs": [
    {
     "name": "stdout",
     "output_type": "stream",
     "text": [
      "0.841091492776886\n",
      "0.6529850746268657\n"
     ]
    }
   ],
   "source": [
    "from sklearn.ensemble import RandomForestClassifier\n",
    "\n",
    "model=RandomForestClassifier(random_state=42,n_estimators=100,criterion=\"gini\",max_depth=20)\n",
    "\n",
    "model.fit(X_train,y_train)\n",
    "\n",
    "\n",
    "score1=model.score(X_train,y_train)\n",
    "print(score1)\n",
    "score2=model.score(X_test,y_test)\n",
    "print(score2)"
   ]
  },
  {
   "cell_type": "code",
   "execution_count": 120,
   "metadata": {},
   "outputs": [
    {
     "name": "stdout",
     "output_type": "stream",
     "text": [
      "[0.68156425 0.70224719 0.66853933 0.69101124 0.66292135]\n",
      "average score:0.68\n"
     ]
    }
   ],
   "source": [
    "from sklearn.model_selection import cross_val_score\n",
    "from sklearn.model_selection import KFold\n",
    "\n",
    "kf=KFold(n_splits=5,shuffle=True)\n",
    "\n",
    "scores=cross_val_score(model,X,y,cv=kf,n_jobs=1)\n",
    "\n",
    "print(scores)\n",
    "\n",
    "print('average score:%.2f'%np.mean(scores))"
   ]
  },
  {
   "cell_type": "code",
   "execution_count": 131,
   "metadata": {},
   "outputs": [
    {
     "name": "stdout",
     "output_type": "stream",
     "text": [
      "Fitting 5 folds for each of 300 candidates, totalling 1500 fits\n"
     ]
    },
    {
     "name": "stderr",
     "output_type": "stream",
     "text": [
      "[Parallel(n_jobs=-1)]: Using backend LokyBackend with 2 concurrent workers.\n",
      "[Parallel(n_jobs=-1)]: Done  46 tasks      | elapsed:   42.9s\n",
      "[Parallel(n_jobs=-1)]: Done 196 tasks      | elapsed:  3.6min\n",
      "[Parallel(n_jobs=-1)]: Done 446 tasks      | elapsed:  9.7min\n",
      "[Parallel(n_jobs=-1)]: Done 796 tasks      | elapsed: 18.2min\n",
      "[Parallel(n_jobs=-1)]: Done 1246 tasks      | elapsed: 28.4min\n",
      "[Parallel(n_jobs=-1)]: Done 1500 out of 1500 | elapsed: 34.6min finished\n"
     ]
    },
    {
     "data": {
      "text/plain": [
       "GridSearchCV(cv=5, estimator=RandomForestClassifier(random_state=42), n_jobs=-1,\n",
       "             param_grid={'max_depth': array([ 6,  8, 10, 12, 14]),\n",
       "                         'min_samples_leaf': array([ 5, 10, 15]),\n",
       "                         'min_samples_split': array([10, 15, 20, 25]),\n",
       "                         'n_estimators': [100, 150, 200, 250, 300]},\n",
       "             verbose=1)"
      ]
     },
     "execution_count": 131,
     "metadata": {},
     "output_type": "execute_result"
    }
   ],
   "source": [
    "from sklearn.model_selection import GridSearchCV\n",
    "\n",
    "Estimator = RandomForestClassifier(random_state=42)\n",
    "parameters={\n",
    "    'n_estimators':[100,150,200,250,300],\n",
    "    'max_depth': np.arange(6,16,2),\n",
    "    'min_samples_split': np.arange(10,30,5),\n",
    "    'min_samples_leaf' : np.arange(5,20,5)\n",
    "}\n",
    "model2=GridSearchCV(Estimator,parameters,verbose=1,cv=5,n_jobs=-1)\n",
    "model2.fit(X_train,y_train)"
   ]
  },
  {
   "cell_type": "code",
   "execution_count": 81,
   "metadata": {},
   "outputs": [
    {
     "data": {
      "text/plain": [
       "8"
      ]
     },
     "execution_count": 81,
     "metadata": {},
     "output_type": "execute_result"
    }
   ],
   "source": [
    "model2.best_estimator_.estimators_[0].max_depth"
   ]
  },
  {
   "cell_type": "code",
   "execution_count": 87,
   "metadata": {},
   "outputs": [
    {
     "ename": "ValueError",
     "evalue": "Number of features of the model must match the input. Model n_features is 28 and input n_features is 3 ",
     "output_type": "error",
     "traceback": [
      "\u001b[1;31m---------------------------------------------------------------------------\u001b[0m",
      "\u001b[1;31mValueError\u001b[0m                                Traceback (most recent call last)",
      "\u001b[1;32m<ipython-input-87-f3863c7181d9>\u001b[0m in \u001b[0;36m<module>\u001b[1;34m\u001b[0m\n\u001b[1;32m----> 1\u001b[1;33m \u001b[0my_pred\u001b[0m\u001b[1;33m=\u001b[0m\u001b[0mmodel2\u001b[0m\u001b[1;33m.\u001b[0m\u001b[0mpredict\u001b[0m\u001b[1;33m(\u001b[0m\u001b[0mX_test\u001b[0m\u001b[1;33m)\u001b[0m\u001b[1;33m\u001b[0m\u001b[1;33m\u001b[0m\u001b[0m\n\u001b[0m\u001b[0;32m      2\u001b[0m \u001b[0mscore\u001b[0m\u001b[1;33m=\u001b[0m\u001b[0mmodel2\u001b[0m\u001b[1;33m.\u001b[0m\u001b[0mscore\u001b[0m\u001b[1;33m(\u001b[0m\u001b[0mX_test\u001b[0m\u001b[1;33m,\u001b[0m\u001b[0my_test\u001b[0m\u001b[1;33m)\u001b[0m\u001b[1;33m\u001b[0m\u001b[1;33m\u001b[0m\u001b[0m\n\u001b[0;32m      3\u001b[0m \u001b[0mprint\u001b[0m\u001b[1;33m(\u001b[0m\u001b[1;34m\"Les paramètres du meilleur modèle sont:\"\u001b[0m\u001b[1;33m)\u001b[0m\u001b[1;33m\u001b[0m\u001b[1;33m\u001b[0m\u001b[0m\n\u001b[0;32m      4\u001b[0m \u001b[0mscore\u001b[0m\u001b[1;33m\u001b[0m\u001b[1;33m\u001b[0m\u001b[0m\n",
      "\u001b[1;32mc:\\users\\hp\\appdata\\local\\programs\\python\\python37-32\\lib\\site-packages\\sklearn\\utils\\metaestimators.py\u001b[0m in \u001b[0;36m<lambda>\u001b[1;34m(*args, **kwargs)\u001b[0m\n\u001b[0;32m    117\u001b[0m \u001b[1;33m\u001b[0m\u001b[0m\n\u001b[0;32m    118\u001b[0m         \u001b[1;31m# lambda, but not partial, allows help() to work with update_wrapper\u001b[0m\u001b[1;33m\u001b[0m\u001b[1;33m\u001b[0m\u001b[1;33m\u001b[0m\u001b[0m\n\u001b[1;32m--> 119\u001b[1;33m         \u001b[0mout\u001b[0m \u001b[1;33m=\u001b[0m \u001b[1;32mlambda\u001b[0m \u001b[1;33m*\u001b[0m\u001b[0margs\u001b[0m\u001b[1;33m,\u001b[0m \u001b[1;33m**\u001b[0m\u001b[0mkwargs\u001b[0m\u001b[1;33m:\u001b[0m \u001b[0mself\u001b[0m\u001b[1;33m.\u001b[0m\u001b[0mfn\u001b[0m\u001b[1;33m(\u001b[0m\u001b[0mobj\u001b[0m\u001b[1;33m,\u001b[0m \u001b[1;33m*\u001b[0m\u001b[0margs\u001b[0m\u001b[1;33m,\u001b[0m \u001b[1;33m**\u001b[0m\u001b[0mkwargs\u001b[0m\u001b[1;33m)\u001b[0m\u001b[1;33m\u001b[0m\u001b[1;33m\u001b[0m\u001b[0m\n\u001b[0m\u001b[0;32m    120\u001b[0m         \u001b[1;31m# update the docstring of the returned function\u001b[0m\u001b[1;33m\u001b[0m\u001b[1;33m\u001b[0m\u001b[1;33m\u001b[0m\u001b[0m\n\u001b[0;32m    121\u001b[0m         \u001b[0mupdate_wrapper\u001b[0m\u001b[1;33m(\u001b[0m\u001b[0mout\u001b[0m\u001b[1;33m,\u001b[0m \u001b[0mself\u001b[0m\u001b[1;33m.\u001b[0m\u001b[0mfn\u001b[0m\u001b[1;33m)\u001b[0m\u001b[1;33m\u001b[0m\u001b[1;33m\u001b[0m\u001b[0m\n",
      "\u001b[1;32mc:\\users\\hp\\appdata\\local\\programs\\python\\python37-32\\lib\\site-packages\\sklearn\\model_selection\\_search.py\u001b[0m in \u001b[0;36mpredict\u001b[1;34m(self, X)\u001b[0m\n\u001b[0;32m    485\u001b[0m         \"\"\"\n\u001b[0;32m    486\u001b[0m         \u001b[0mself\u001b[0m\u001b[1;33m.\u001b[0m\u001b[0m_check_is_fitted\u001b[0m\u001b[1;33m(\u001b[0m\u001b[1;34m'predict'\u001b[0m\u001b[1;33m)\u001b[0m\u001b[1;33m\u001b[0m\u001b[1;33m\u001b[0m\u001b[0m\n\u001b[1;32m--> 487\u001b[1;33m         \u001b[1;32mreturn\u001b[0m \u001b[0mself\u001b[0m\u001b[1;33m.\u001b[0m\u001b[0mbest_estimator_\u001b[0m\u001b[1;33m.\u001b[0m\u001b[0mpredict\u001b[0m\u001b[1;33m(\u001b[0m\u001b[0mX\u001b[0m\u001b[1;33m)\u001b[0m\u001b[1;33m\u001b[0m\u001b[1;33m\u001b[0m\u001b[0m\n\u001b[0m\u001b[0;32m    488\u001b[0m \u001b[1;33m\u001b[0m\u001b[0m\n\u001b[0;32m    489\u001b[0m     \u001b[1;33m@\u001b[0m\u001b[0mif_delegate_has_method\u001b[0m\u001b[1;33m(\u001b[0m\u001b[0mdelegate\u001b[0m\u001b[1;33m=\u001b[0m\u001b[1;33m(\u001b[0m\u001b[1;34m'best_estimator_'\u001b[0m\u001b[1;33m,\u001b[0m \u001b[1;34m'estimator'\u001b[0m\u001b[1;33m)\u001b[0m\u001b[1;33m)\u001b[0m\u001b[1;33m\u001b[0m\u001b[1;33m\u001b[0m\u001b[0m\n",
      "\u001b[1;32mc:\\users\\hp\\appdata\\local\\programs\\python\\python37-32\\lib\\site-packages\\sklearn\\ensemble\\_forest.py\u001b[0m in \u001b[0;36mpredict\u001b[1;34m(self, X)\u001b[0m\n\u001b[0;32m    627\u001b[0m             \u001b[0mThe\u001b[0m \u001b[0mpredicted\u001b[0m \u001b[0mclasses\u001b[0m\u001b[1;33m.\u001b[0m\u001b[1;33m\u001b[0m\u001b[1;33m\u001b[0m\u001b[0m\n\u001b[0;32m    628\u001b[0m         \"\"\"\n\u001b[1;32m--> 629\u001b[1;33m         \u001b[0mproba\u001b[0m \u001b[1;33m=\u001b[0m \u001b[0mself\u001b[0m\u001b[1;33m.\u001b[0m\u001b[0mpredict_proba\u001b[0m\u001b[1;33m(\u001b[0m\u001b[0mX\u001b[0m\u001b[1;33m)\u001b[0m\u001b[1;33m\u001b[0m\u001b[1;33m\u001b[0m\u001b[0m\n\u001b[0m\u001b[0;32m    630\u001b[0m \u001b[1;33m\u001b[0m\u001b[0m\n\u001b[0;32m    631\u001b[0m         \u001b[1;32mif\u001b[0m \u001b[0mself\u001b[0m\u001b[1;33m.\u001b[0m\u001b[0mn_outputs_\u001b[0m \u001b[1;33m==\u001b[0m \u001b[1;36m1\u001b[0m\u001b[1;33m:\u001b[0m\u001b[1;33m\u001b[0m\u001b[1;33m\u001b[0m\u001b[0m\n",
      "\u001b[1;32mc:\\users\\hp\\appdata\\local\\programs\\python\\python37-32\\lib\\site-packages\\sklearn\\ensemble\\_forest.py\u001b[0m in \u001b[0;36mpredict_proba\u001b[1;34m(self, X)\u001b[0m\n\u001b[0;32m    671\u001b[0m         \u001b[0mcheck_is_fitted\u001b[0m\u001b[1;33m(\u001b[0m\u001b[0mself\u001b[0m\u001b[1;33m)\u001b[0m\u001b[1;33m\u001b[0m\u001b[1;33m\u001b[0m\u001b[0m\n\u001b[0;32m    672\u001b[0m         \u001b[1;31m# Check data\u001b[0m\u001b[1;33m\u001b[0m\u001b[1;33m\u001b[0m\u001b[1;33m\u001b[0m\u001b[0m\n\u001b[1;32m--> 673\u001b[1;33m         \u001b[0mX\u001b[0m \u001b[1;33m=\u001b[0m \u001b[0mself\u001b[0m\u001b[1;33m.\u001b[0m\u001b[0m_validate_X_predict\u001b[0m\u001b[1;33m(\u001b[0m\u001b[0mX\u001b[0m\u001b[1;33m)\u001b[0m\u001b[1;33m\u001b[0m\u001b[1;33m\u001b[0m\u001b[0m\n\u001b[0m\u001b[0;32m    674\u001b[0m \u001b[1;33m\u001b[0m\u001b[0m\n\u001b[0;32m    675\u001b[0m         \u001b[1;31m# Assign chunk of trees to jobs\u001b[0m\u001b[1;33m\u001b[0m\u001b[1;33m\u001b[0m\u001b[1;33m\u001b[0m\u001b[0m\n",
      "\u001b[1;32mc:\\users\\hp\\appdata\\local\\programs\\python\\python37-32\\lib\\site-packages\\sklearn\\ensemble\\_forest.py\u001b[0m in \u001b[0;36m_validate_X_predict\u001b[1;34m(self, X)\u001b[0m\n\u001b[0;32m    419\u001b[0m         \u001b[0mcheck_is_fitted\u001b[0m\u001b[1;33m(\u001b[0m\u001b[0mself\u001b[0m\u001b[1;33m)\u001b[0m\u001b[1;33m\u001b[0m\u001b[1;33m\u001b[0m\u001b[0m\n\u001b[0;32m    420\u001b[0m \u001b[1;33m\u001b[0m\u001b[0m\n\u001b[1;32m--> 421\u001b[1;33m         \u001b[1;32mreturn\u001b[0m \u001b[0mself\u001b[0m\u001b[1;33m.\u001b[0m\u001b[0mestimators_\u001b[0m\u001b[1;33m[\u001b[0m\u001b[1;36m0\u001b[0m\u001b[1;33m]\u001b[0m\u001b[1;33m.\u001b[0m\u001b[0m_validate_X_predict\u001b[0m\u001b[1;33m(\u001b[0m\u001b[0mX\u001b[0m\u001b[1;33m,\u001b[0m \u001b[0mcheck_input\u001b[0m\u001b[1;33m=\u001b[0m\u001b[1;32mTrue\u001b[0m\u001b[1;33m)\u001b[0m\u001b[1;33m\u001b[0m\u001b[1;33m\u001b[0m\u001b[0m\n\u001b[0m\u001b[0;32m    422\u001b[0m \u001b[1;33m\u001b[0m\u001b[0m\n\u001b[0;32m    423\u001b[0m     \u001b[1;33m@\u001b[0m\u001b[0mproperty\u001b[0m\u001b[1;33m\u001b[0m\u001b[1;33m\u001b[0m\u001b[0m\n",
      "\u001b[1;32mc:\\users\\hp\\appdata\\local\\programs\\python\\python37-32\\lib\\site-packages\\sklearn\\tree\\_classes.py\u001b[0m in \u001b[0;36m_validate_X_predict\u001b[1;34m(self, X, check_input)\u001b[0m\n\u001b[0;32m    397\u001b[0m                              \u001b[1;34m\"match the input. Model n_features is %s and \"\u001b[0m\u001b[1;33m\u001b[0m\u001b[1;33m\u001b[0m\u001b[0m\n\u001b[0;32m    398\u001b[0m                              \u001b[1;34m\"input n_features is %s \"\u001b[0m\u001b[1;33m\u001b[0m\u001b[1;33m\u001b[0m\u001b[0m\n\u001b[1;32m--> 399\u001b[1;33m                              % (self.n_features_, n_features))\n\u001b[0m\u001b[0;32m    400\u001b[0m \u001b[1;33m\u001b[0m\u001b[0m\n\u001b[0;32m    401\u001b[0m         \u001b[1;32mreturn\u001b[0m \u001b[0mX\u001b[0m\u001b[1;33m\u001b[0m\u001b[1;33m\u001b[0m\u001b[0m\n",
      "\u001b[1;31mValueError\u001b[0m: Number of features of the model must match the input. Model n_features is 28 and input n_features is 3 "
     ]
    }
   ],
   "source": [
    "y_pred=model2.predict(X_test)\n",
    "score=model2.score(X_test,y_test)\n",
    "print(\"Les paramètres du meilleur modèle sont:\")\n",
    "score"
   ]
  },
  {
   "cell_type": "code",
   "execution_count": 130,
   "metadata": {},
   "outputs": [
    {
     "data": {
      "image/png": "[encoded data removed]",
      "text/plain": [
       "<Figure size 1800x1080 with 1 Axes>"
      ]
     },
     "metadata": {
      "needs_background": "light"
     },
     "output_type": "display_data"
    }
   ],
   "source": [
    "from sklearn.svm import SVR\n",
    "kf = KFold(n_splits=5)\n",
    "\n",
    "model_cols1=['SibSp','Parch','Fare']\n",
    "X,y=parse_model(X=train.copy(),use_columns=model_cols1)\n",
    "\n",
    "model1 = []\n",
    "model2 = []\n",
    "model3 = []\n",
    "\n",
    "model=LogisticRegression(random_state=42)\n",
    "model.fit(X_train,y_train)\n",
    "kf=KFold(n_splits=5,shuffle=True)\n",
    "model1=cross_val_score(model,X,y,cv=kf,n_jobs=1)\n",
    "\n",
    "    \n",
    "model=RandomForestClassifier(random_state=42,n_estimators=100,criterion=\"gini\",max_depth=20)\n",
    "model.fit(X_train,y_train)\n",
    "kf=KFold(n_splits=5,shuffle=True)\n",
    "model2=cross_val_score(model,X,y,cv=kf,n_jobs=1)\n",
    "\n",
    "model=SVR()\n",
    "model.fit(X_train,y_train)\n",
    "kf=KFold(n_splits=5,shuffle=True)\n",
    "model3=cross_val_score(model,X,y,cv=kf,n_jobs=1)\n",
    "\n",
    "\n",
    "tmp = [model1, model2, model3]\n",
    "labels = [\"RegLog\", \"RandomForest\",\"SVR\"]\n",
    "figure = plt.figure(figsize=(25,15))\n",
    "boxlook = plt.boxplot(tmp,labels=labels,patch_artist=True)\n",
    "plt.grid(linestyle='--')"
   ]
  },
  {
   "cell_type": "code",
   "execution_count": null,
   "metadata": {},
   "outputs": [],
   "source": []
  }
 ],
 "metadata": {
  "kernelspec": {
   "display_name": "Python 3",
   "language": "python",
   "name": "python3"
  },
  "language_info": {
   "codemirror_mode": {
    "name": "ipython",
    "version": 3
   },
   "file_extension": ".py",
   "mimetype": "text/x-python",
   "name": "python",
   "nbconvert_exporter": "python",
   "pygments_lexer": "ipython3",
   "version": "3.7.3"
  }
 },
 "nbformat": 4,
 "nbformat_minor": 4
}
